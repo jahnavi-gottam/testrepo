{
 "cells": [
  {
   "cell_type": "markdown",
   "id": "5d2d291f-9489-4cd7-9f2b-0be1127128f5",
   "metadata": {},
   "source": [
    "## data science tools and ecosystem"
   ]
  },
  {
   "cell_type": "markdown",
   "id": "f768262e-3664-4daf-897b-f2e18b5b730d",
   "metadata": {},
   "source": [
    " ### introduction"
   ]
  },
  {
   "cell_type": "markdown",
   "id": "41d1095f-9663-4933-b447-73cf5e49bc8f",
   "metadata": {},
   "source": [
    "in this notebook,data science tools and ecosystem are summarized:"
   ]
  },
  {
   "cell_type": "markdown",
   "id": "0d7010c7-0191-464a-b6af-b688b9505efe",
   "metadata": {},
   "source": [
    "some of the popular languages that Data Scientists use are:\n",
    "1. python\n",
    "2. sql\n",
    "3.  r\n",
    "4. julia\n",
    "5.  ml"
   ]
  },
  {
   "cell_type": "markdown",
   "id": "a9915340-29be-4182-85ff-6625cdfbca1c",
   "metadata": {},
   "source": [
    "### data science libraries"
   ]
  },
  {
   "cell_type": "markdown",
   "id": "48d44e85-4d51-4f89-abd3-8ebae8980a89",
   "metadata": {},
   "source": [
    "Some of the commonly used libraries used by Data Scientists include:\n",
    "1. numpy\n",
    "2. pandas\n",
    "3. matplotlib\n",
    "4. pytorch\n",
    "5. scipy\n"
   ]
  },
  {
   "cell_type": "markdown",
   "id": "a58d59f1-9518-49c6-9fd1-b046e58102c3",
   "metadata": {},
   "source": [
    "|data science tools|\n",
    "|------|\n",
    "|SAS|\n",
    "|Apache hadoop|\n",
    "|tensor flow|"
   ]
  },
  {
   "cell_type": "markdown",
   "id": "cd1e12d6-fa45-4bf9-9692-66094a6570d0",
   "metadata": {},
   "source": [
    "### Below are a few examples of evaluating arithmetic expressions in Python"
   ]
  },
  {
   "cell_type": "code",
   "execution_count": 1,
   "id": "a77b9da0-a38a-431e-a9e8-b381f36aad8d",
   "metadata": {
    "tags": []
   },
   "outputs": [
    {
     "data": {
      "text/plain": [
       "17"
      ]
     },
     "execution_count": 1,
     "metadata": {},
     "output_type": "execute_result"
    }
   ],
   "source": [
    "#This a simple arithmetic expression to mutiply then add integers\n",
    "(3*4)+5"
   ]
  },
  {
   "cell_type": "code",
   "execution_count": 3,
   "id": "c6072e8b-098b-443b-9876-6a386106e6a9",
   "metadata": {
    "tags": []
   },
   "outputs": [
    {
     "data": {
      "text/plain": [
       "3.3333333333333335"
      ]
     },
     "execution_count": 3,
     "metadata": {},
     "output_type": "execute_result"
    }
   ],
   "source": [
    " #This will convert 200 minutes to hours by diving by 60.\n",
    "200/60"
   ]
  },
  {
   "cell_type": "markdown",
   "id": "6acda95d-e653-4ac4-9768-4523298185be",
   "metadata": {},
   "source": [
    "__Objective__\n",
    "* list popular languages for data science\n",
    "* list popular libraries for data science\n",
    "* lit of well known data science tools\n",
    "* how to provide comments in cell"
   ]
  },
  {
   "cell_type": "markdown",
   "id": "5cefdce3-d6ef-4baf-bb4b-13df894f1c03",
   "metadata": {},
   "source": [
    "## Author"
   ]
  },
  {
   "cell_type": "markdown",
   "id": "743f71ab-508f-45e7-a93b-84ceb2f35fc1",
   "metadata": {
    "tags": []
   },
   "source": [
    "Lakshmi holla\n"
   ]
  },
  {
   "cell_type": "code",
   "execution_count": null,
   "id": "40f6e3e6-c584-43a9-982d-bca07219d72f",
   "metadata": {},
   "outputs": [],
   "source": []
  }
 ],
 "metadata": {
  "kernelspec": {
   "display_name": "Python",
   "language": "python",
   "name": "conda-env-python-py"
  },
  "language_info": {
   "codemirror_mode": {
    "name": "ipython",
    "version": 3
   },
   "file_extension": ".py",
   "mimetype": "text/x-python",
   "name": "python",
   "nbconvert_exporter": "python",
   "pygments_lexer": "ipython3",
   "version": "3.7.12"
  }
 },
 "nbformat": 4,
 "nbformat_minor": 5
}
